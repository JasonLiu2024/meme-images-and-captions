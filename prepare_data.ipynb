{
 "cells": [
  {
   "cell_type": "code",
   "execution_count": 1,
   "metadata": {},
   "outputs": [],
   "source": [
    "import torch\n",
    "import numpy as np\n",
    "import pandas as pd\n",
    "import os.path"
   ]
  },
  {
   "cell_type": "code",
   "execution_count": 2,
   "metadata": {},
   "outputs": [],
   "source": [
    "\"\"\"load image names & filenames\"\"\"\n",
    "where_data = 'data'\n",
    "image_names : list[str] = []\n",
    "image_filenames : list[str] = []\n",
    "with open(f\"{where_data}/templates.txt\", 'r') as f:\n",
    "    for line in f:\n",
    "        # image_name describes some aspect of an image\n",
    "        image_name, _, url = line.strip().split('\\t')\n",
    "        image_filename = url.split('/')[-1]\n",
    "        image_names.append(image_name)\n",
    "        image_filenames.append(image_filename)\n",
    "image_name_n_image_index : dict[str, int] = {name : index \\\n",
    "    for name, index \\\n",
    "    in zip(image_names, np.arange(len(image_names)))}"
   ]
  },
  {
   "cell_type": "code",
   "execution_count": 8,
   "metadata": {},
   "outputs": [
    {
     "name": "stdout",
     "output_type": "stream",
     "text": [
      "loading\n"
     ]
    }
   ],
   "source": [
    "\"\"\"Mapping image index to indices of matching captions\"\"\"\n",
    "if os.path.isfile('image_index_TO_caption_index.npy'):\n",
    "    print(\"loading\")\n",
    "    # need .item() to get dictionary back! (otherwise it's an array of objects)\n",
    "    image_index_TO_caption_index = np.load('image_index_TO_caption_index.npy', allow_pickle=True).item()\n",
    "else:\n",
    "    print(\"making\")\n",
    "    # create dictionary MAP of image index TO indices of matching captions\n",
    "    image_index_TO_caption_index = {index : [] \\\n",
    "        for index in np.arange(len(image_names)) #  : dict[int, NDArray]\n",
    "    }\n",
    "    captions : list[str] = []\n",
    "    with open(f\"{where_data}/captions.txt\", 'r') as f:\n",
    "        for caption_index, line in enumerate(f):\n",
    "            image_name, _, caption = line.strip().split('\\t')\n",
    "            if image_name in image_name_n_image_index: # DON'T find in list\n",
    "                captions.append(caption)\n",
    "                image_index = image_name_n_image_index[image_name]\n",
    "                image_index_TO_caption_index[image_index].append(caption_index)\n",
    "    for key in image_index_TO_caption_index.keys():\n",
    "        image_index_TO_caption_index[key] = np.asarray(image_index_TO_caption_index[key])\n",
    "    np.save('image_index_TO_caption_index.npy', image_index_TO_caption_index)"
   ]
  },
  {
   "cell_type": "code",
   "execution_count": 14,
   "metadata": {},
   "outputs": [
    {
     "name": "stdout",
     "output_type": "stream",
     "text": [
      "tensor([1.], device='mps:0')\n"
     ]
    }
   ],
   "source": [
    "if torch.backends.mps.is_available():\n",
    "    mps_device = torch.device(\"mps\")\n",
    "    x = torch.ones(1, device=mps_device)\n",
    "    print(x)\n",
    "else:\n",
    "    print(\"MPS device not found.\")"
   ]
  },
  {
   "cell_type": "code",
   "execution_count": 5,
   "metadata": {},
   "outputs": [
    {
     "name": "stdout",
     "output_type": "stream",
     "text": [
      "<class 'torch.Tensor'>\n"
     ]
    },
    {
     "data": {
      "text/plain": [
       "torch.Size([900000, 384])"
      ]
     },
     "execution_count": 5,
     "metadata": {},
     "output_type": "execute_result"
    }
   ],
   "source": [
    "\"\"\"All caption embeddings\"\"\"\n",
    "from sentence_transformers import SentenceTransformer\n",
    "# https://huggingface.co/sentence-transformers/all-MiniLM-L6-v2\n",
    "if os.path.isfile('caption_embeddings.pt'):\n",
    "    caption_embeddings = torch.load(f='caption_embeddings.pt')\n",
    "else:\n",
    "    model = SentenceTransformer('sentence-transformers/all-MiniLM-L6-v2')\n",
    "    model.to(mps_device)\n",
    "    caption_embeddings = model.encode(captions)\n",
    "    print(f\"{len(caption_embeddings)} embeddings, {caption_embeddings[0].shape} long ea\")\n",
    "    torch.save(obj=caption_embeddings, f='caption_embeddings.pt')\n",
    "    pass\n",
    "len(caption_embeddings)\n",
    "print(type(caption_embeddings))\n",
    "caption_embeddings.shape"
   ]
  },
  {
   "cell_type": "code",
   "execution_count": 38,
   "metadata": {},
   "outputs": [],
   "source": [
    "\"\"\"(All) Image Embeddings\"\"\"\n",
    "from PIL import Image\n",
    "from torchvision import transforms\n",
    "from torchvision import models\n",
    "import torch.nn as nn\n",
    "if os.path.isfile('image_embeddings.pt'):\n",
    "    image_embeddings = torch.load(f='image_embeddings.pt')\n",
    "else:\n",
    "    resnet = models.resnet50(pretrained=True)\n",
    "    modules = list(resnet.children())[:-1]\n",
    "    resnet = nn.Sequential(*modules)\n",
    "    resnet.to(mps_device)\n",
    "    for p in resnet.parameters():\n",
    "        p.requires_grad = False\n",
    "    image_transformation = transforms.Compose([\n",
    "    transforms.Resize((224, 224)),\n",
    "    transforms.ToTensor(), # rearrange PIL image to shape=(C, H, W)\n",
    "    transforms.Normalize(mean=[0.485, 0.456, 0.406], std=[0.229, 0.224, 0.225]),\n",
    "    ])\n",
    "    images = []\n",
    "    for image_filename in image_filenames:\n",
    "        image = Image.open(fp=f\"{where_data}/images/{image_filename}\")\n",
    "        image = image_transformation(image)\n",
    "        images.append(image)\n",
    "    images = torch.stack(images)\n",
    "    image_embeddings = resnet(images).squeeze()\n",
    "    torch.save(obj=image_embeddings, f='image_embeddings.pt')\n",
    "image_embeddings.shape"
   ]
  }
 ],
 "metadata": {
  "kernelspec": {
   "display_name": "ml",
   "language": "python",
   "name": "python3"
  },
  "language_info": {
   "codemirror_mode": {
    "name": "ipython",
    "version": 3
   },
   "file_extension": ".py",
   "mimetype": "text/x-python",
   "name": "python",
   "nbconvert_exporter": "python",
   "pygments_lexer": "ipython3",
   "version": "3.9.16"
  }
 },
 "nbformat": 4,
 "nbformat_minor": 2
}
